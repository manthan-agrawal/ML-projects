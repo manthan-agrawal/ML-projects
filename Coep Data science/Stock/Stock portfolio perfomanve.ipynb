{
 "cells": [
  {
   "cell_type": "code",
   "execution_count": 17,
   "metadata": {},
   "outputs": [],
   "source": [
    "import numpy as np\n",
    "import pandas as pd\n",
    "import seaborn as sns\n",
    "import matplotlib.pyplot as plt\n",
    "%matplotlib inline"
   ]
  },
  {
   "cell_type": "code",
   "execution_count": 18,
   "metadata": {},
   "outputs": [],
   "source": [
    "data = pd.read_excel(\"stock.xlsx\",skiprows= 1)"
   ]
  },
  {
   "cell_type": "code",
   "execution_count": 37,
   "metadata": {
    "scrolled": false
   },
   "outputs": [
    {
     "data": {
      "text/html": [
       "<div>\n",
       "<style scoped>\n",
       "    .dataframe tbody tr th:only-of-type {\n",
       "        vertical-align: middle;\n",
       "    }\n",
       "\n",
       "    .dataframe tbody tr th {\n",
       "        vertical-align: top;\n",
       "    }\n",
       "\n",
       "    .dataframe thead th {\n",
       "        text-align: right;\n",
       "    }\n",
       "</style>\n",
       "<table border=\"1\" class=\"dataframe\">\n",
       "  <thead>\n",
       "    <tr style=\"text-align: right;\">\n",
       "      <th></th>\n",
       "      <th>ID</th>\n",
       "      <th>Large B/P</th>\n",
       "      <th>Large ROE</th>\n",
       "      <th>Large S/P</th>\n",
       "      <th>Large Return Rate in the last quarter</th>\n",
       "      <th>Large Market Value</th>\n",
       "      <th>Small systematic Risk</th>\n",
       "      <th>Annual Return</th>\n",
       "      <th>Excess Return</th>\n",
       "      <th>Systematic Risk</th>\n",
       "      <th>Total Risk</th>\n",
       "      <th>Abs. Win Rate</th>\n",
       "      <th>Rel. Win Rate</th>\n",
       "      <th>Annual Return.1</th>\n",
       "      <th>Excess Return.1</th>\n",
       "      <th>Systematic Risk.1</th>\n",
       "      <th>Total Risk.1</th>\n",
       "      <th>Abs. Win Rate.1</th>\n",
       "      <th>Rel. Win Rate.1</th>\n",
       "    </tr>\n",
       "  </thead>\n",
       "  <tbody>\n",
       "    <tr>\n",
       "      <th>0</th>\n",
       "      <td>1</td>\n",
       "      <td>1.0</td>\n",
       "      <td>0.0</td>\n",
       "      <td>0.0</td>\n",
       "      <td>0.0</td>\n",
       "      <td>0.0</td>\n",
       "      <td>0.0</td>\n",
       "      <td>0.019516</td>\n",
       "      <td>0.013399</td>\n",
       "      <td>1.902608</td>\n",
       "      <td>0.218617</td>\n",
       "      <td>0.60</td>\n",
       "      <td>0.40</td>\n",
       "      <td>0.488229</td>\n",
       "      <td>0.609445</td>\n",
       "      <td>0.780756</td>\n",
       "      <td>0.800000</td>\n",
       "      <td>0.68</td>\n",
       "      <td>0.333333</td>\n",
       "    </tr>\n",
       "    <tr>\n",
       "      <th>1</th>\n",
       "      <td>2</td>\n",
       "      <td>0.0</td>\n",
       "      <td>1.0</td>\n",
       "      <td>0.0</td>\n",
       "      <td>0.0</td>\n",
       "      <td>0.0</td>\n",
       "      <td>0.0</td>\n",
       "      <td>0.023829</td>\n",
       "      <td>0.006410</td>\n",
       "      <td>1.263287</td>\n",
       "      <td>0.128740</td>\n",
       "      <td>0.55</td>\n",
       "      <td>0.65</td>\n",
       "      <td>0.505279</td>\n",
       "      <td>0.508169</td>\n",
       "      <td>0.443776</td>\n",
       "      <td>0.414220</td>\n",
       "      <td>0.56</td>\n",
       "      <td>0.666667</td>\n",
       "    </tr>\n",
       "    <tr>\n",
       "      <th>2</th>\n",
       "      <td>3</td>\n",
       "      <td>0.0</td>\n",
       "      <td>0.0</td>\n",
       "      <td>1.0</td>\n",
       "      <td>0.0</td>\n",
       "      <td>0.0</td>\n",
       "      <td>0.0</td>\n",
       "      <td>0.080282</td>\n",
       "      <td>0.026548</td>\n",
       "      <td>1.894339</td>\n",
       "      <td>0.208272</td>\n",
       "      <td>0.55</td>\n",
       "      <td>0.50</td>\n",
       "      <td>0.728484</td>\n",
       "      <td>0.800000</td>\n",
       "      <td>0.776397</td>\n",
       "      <td>0.755594</td>\n",
       "      <td>0.56</td>\n",
       "      <td>0.466667</td>\n",
       "    </tr>\n",
       "    <tr>\n",
       "      <th>3</th>\n",
       "      <td>4</td>\n",
       "      <td>0.0</td>\n",
       "      <td>0.0</td>\n",
       "      <td>0.0</td>\n",
       "      <td>1.0</td>\n",
       "      <td>0.0</td>\n",
       "      <td>0.0</td>\n",
       "      <td>-0.006683</td>\n",
       "      <td>0.000728</td>\n",
       "      <td>1.425454</td>\n",
       "      <td>0.155526</td>\n",
       "      <td>0.55</td>\n",
       "      <td>0.35</td>\n",
       "      <td>0.384640</td>\n",
       "      <td>0.425836</td>\n",
       "      <td>0.529253</td>\n",
       "      <td>0.529196</td>\n",
       "      <td>0.56</td>\n",
       "      <td>0.266667</td>\n",
       "    </tr>\n",
       "    <tr>\n",
       "      <th>4</th>\n",
       "      <td>5</td>\n",
       "      <td>0.0</td>\n",
       "      <td>0.0</td>\n",
       "      <td>0.0</td>\n",
       "      <td>0.0</td>\n",
       "      <td>1.0</td>\n",
       "      <td>0.0</td>\n",
       "      <td>0.021999</td>\n",
       "      <td>0.004407</td>\n",
       "      <td>1.094579</td>\n",
       "      <td>0.106729</td>\n",
       "      <td>0.65</td>\n",
       "      <td>0.70</td>\n",
       "      <td>0.498046</td>\n",
       "      <td>0.479146</td>\n",
       "      <td>0.354852</td>\n",
       "      <td>0.319743</td>\n",
       "      <td>0.80</td>\n",
       "      <td>0.733333</td>\n",
       "    </tr>\n",
       "  </tbody>\n",
       "</table>\n",
       "</div>"
      ],
      "text/plain": [
       "   ID   Large B/P    Large ROE    Large S/P   \\\n",
       "0   1          1.0          0.0          0.0   \n",
       "1   2          0.0          1.0          0.0   \n",
       "2   3          0.0          0.0          1.0   \n",
       "3   4          0.0          0.0          0.0   \n",
       "4   5          0.0          0.0          0.0   \n",
       "\n",
       "    Large Return Rate in the last quarter    Large Market Value   \\\n",
       "0                                      0.0                   0.0   \n",
       "1                                      0.0                   0.0   \n",
       "2                                      0.0                   0.0   \n",
       "3                                      1.0                   0.0   \n",
       "4                                      0.0                   1.0   \n",
       "\n",
       "    Small systematic Risk  Annual Return  Excess Return  Systematic Risk  \\\n",
       "0                     0.0       0.019516       0.013399         1.902608   \n",
       "1                     0.0       0.023829       0.006410         1.263287   \n",
       "2                     0.0       0.080282       0.026548         1.894339   \n",
       "3                     0.0      -0.006683       0.000728         1.425454   \n",
       "4                     0.0       0.021999       0.004407         1.094579   \n",
       "\n",
       "   Total Risk  Abs. Win Rate  Rel. Win Rate  Annual Return.1  Excess Return.1  \\\n",
       "0    0.218617           0.60           0.40         0.488229         0.609445   \n",
       "1    0.128740           0.55           0.65         0.505279         0.508169   \n",
       "2    0.208272           0.55           0.50         0.728484         0.800000   \n",
       "3    0.155526           0.55           0.35         0.384640         0.425836   \n",
       "4    0.106729           0.65           0.70         0.498046         0.479146   \n",
       "\n",
       "   Systematic Risk.1  Total Risk.1  Abs. Win Rate.1  Rel. Win Rate.1  \n",
       "0           0.780756      0.800000             0.68         0.333333  \n",
       "1           0.443776      0.414220             0.56         0.666667  \n",
       "2           0.776397      0.755594             0.56         0.466667  \n",
       "3           0.529253      0.529196             0.56         0.266667  \n",
       "4           0.354852      0.319743             0.80         0.733333  "
      ]
     },
     "execution_count": 37,
     "metadata": {},
     "output_type": "execute_result"
    }
   ],
   "source": [
    "data.head()"
   ]
  },
  {
   "cell_type": "code",
   "execution_count": 20,
   "metadata": {},
   "outputs": [
    {
     "data": {
      "text/plain": [
       "ID                                           int64\n",
       " Large B/P                                 float64\n",
       " Large ROE                                 float64\n",
       " Large S/P                                 float64\n",
       " Large Return Rate in the last quarter     float64\n",
       " Large Market Value                        float64\n",
       " Small systematic Risk                     float64\n",
       "Annual Return                              float64\n",
       "Excess Return                              float64\n",
       "Systematic Risk                            float64\n",
       "Total Risk                                 float64\n",
       "Abs. Win Rate                              float64\n",
       "Rel. Win Rate                              float64\n",
       "Annual Return.1                            float64\n",
       "Excess Return.1                            float64\n",
       "Systematic Risk.1                          float64\n",
       "Total Risk.1                               float64\n",
       "Abs. Win Rate.1                            float64\n",
       "Rel. Win Rate.1                            float64\n",
       "dtype: object"
      ]
     },
     "execution_count": 20,
     "metadata": {},
     "output_type": "execute_result"
    }
   ],
   "source": [
    "data.dtypes"
   ]
  },
  {
   "cell_type": "code",
   "execution_count": 21,
   "metadata": {
    "scrolled": true
   },
   "outputs": [
    {
     "data": {
      "text/html": [
       "<div>\n",
       "<style scoped>\n",
       "    .dataframe tbody tr th:only-of-type {\n",
       "        vertical-align: middle;\n",
       "    }\n",
       "\n",
       "    .dataframe tbody tr th {\n",
       "        vertical-align: top;\n",
       "    }\n",
       "\n",
       "    .dataframe thead th {\n",
       "        text-align: right;\n",
       "    }\n",
       "</style>\n",
       "<table border=\"1\" class=\"dataframe\">\n",
       "  <thead>\n",
       "    <tr style=\"text-align: right;\">\n",
       "      <th></th>\n",
       "      <th>Large B/P</th>\n",
       "      <th>Large ROE</th>\n",
       "      <th>Large S/P</th>\n",
       "      <th>Large Return Rate in the last quarter</th>\n",
       "      <th>Large Market Value</th>\n",
       "      <th>Small systematic Risk</th>\n",
       "      <th>Annual Return</th>\n",
       "      <th>Excess Return</th>\n",
       "      <th>Systematic Risk</th>\n",
       "      <th>Total Risk</th>\n",
       "      <th>Abs. Win Rate</th>\n",
       "      <th>Rel. Win Rate</th>\n",
       "    </tr>\n",
       "  </thead>\n",
       "  <tbody>\n",
       "    <tr>\n",
       "      <th>0</th>\n",
       "      <td>1.0</td>\n",
       "      <td>0.0</td>\n",
       "      <td>0.0</td>\n",
       "      <td>0.0</td>\n",
       "      <td>0.0</td>\n",
       "      <td>0.0</td>\n",
       "      <td>0.019516</td>\n",
       "      <td>0.013399</td>\n",
       "      <td>1.902608</td>\n",
       "      <td>0.218617</td>\n",
       "      <td>0.60</td>\n",
       "      <td>0.40</td>\n",
       "    </tr>\n",
       "    <tr>\n",
       "      <th>1</th>\n",
       "      <td>0.0</td>\n",
       "      <td>1.0</td>\n",
       "      <td>0.0</td>\n",
       "      <td>0.0</td>\n",
       "      <td>0.0</td>\n",
       "      <td>0.0</td>\n",
       "      <td>0.023829</td>\n",
       "      <td>0.006410</td>\n",
       "      <td>1.263287</td>\n",
       "      <td>0.128740</td>\n",
       "      <td>0.55</td>\n",
       "      <td>0.65</td>\n",
       "    </tr>\n",
       "    <tr>\n",
       "      <th>2</th>\n",
       "      <td>0.0</td>\n",
       "      <td>0.0</td>\n",
       "      <td>1.0</td>\n",
       "      <td>0.0</td>\n",
       "      <td>0.0</td>\n",
       "      <td>0.0</td>\n",
       "      <td>0.080282</td>\n",
       "      <td>0.026548</td>\n",
       "      <td>1.894339</td>\n",
       "      <td>0.208272</td>\n",
       "      <td>0.55</td>\n",
       "      <td>0.50</td>\n",
       "    </tr>\n",
       "    <tr>\n",
       "      <th>3</th>\n",
       "      <td>0.0</td>\n",
       "      <td>0.0</td>\n",
       "      <td>0.0</td>\n",
       "      <td>1.0</td>\n",
       "      <td>0.0</td>\n",
       "      <td>0.0</td>\n",
       "      <td>-0.006683</td>\n",
       "      <td>0.000728</td>\n",
       "      <td>1.425454</td>\n",
       "      <td>0.155526</td>\n",
       "      <td>0.55</td>\n",
       "      <td>0.35</td>\n",
       "    </tr>\n",
       "    <tr>\n",
       "      <th>4</th>\n",
       "      <td>0.0</td>\n",
       "      <td>0.0</td>\n",
       "      <td>0.0</td>\n",
       "      <td>0.0</td>\n",
       "      <td>1.0</td>\n",
       "      <td>0.0</td>\n",
       "      <td>0.021999</td>\n",
       "      <td>0.004407</td>\n",
       "      <td>1.094579</td>\n",
       "      <td>0.106729</td>\n",
       "      <td>0.65</td>\n",
       "      <td>0.70</td>\n",
       "    </tr>\n",
       "  </tbody>\n",
       "</table>\n",
       "</div>"
      ],
      "text/plain": [
       "    Large B/P    Large ROE    Large S/P   \\\n",
       "0          1.0          0.0          0.0   \n",
       "1          0.0          1.0          0.0   \n",
       "2          0.0          0.0          1.0   \n",
       "3          0.0          0.0          0.0   \n",
       "4          0.0          0.0          0.0   \n",
       "\n",
       "    Large Return Rate in the last quarter    Large Market Value   \\\n",
       "0                                      0.0                   0.0   \n",
       "1                                      0.0                   0.0   \n",
       "2                                      0.0                   0.0   \n",
       "3                                      1.0                   0.0   \n",
       "4                                      0.0                   1.0   \n",
       "\n",
       "    Small systematic Risk  Annual Return  Excess Return  Systematic Risk  \\\n",
       "0                     0.0       0.019516       0.013399         1.902608   \n",
       "1                     0.0       0.023829       0.006410         1.263287   \n",
       "2                     0.0       0.080282       0.026548         1.894339   \n",
       "3                     0.0      -0.006683       0.000728         1.425454   \n",
       "4                     0.0       0.021999       0.004407         1.094579   \n",
       "\n",
       "   Total Risk  Abs. Win Rate  Rel. Win Rate  \n",
       "0    0.218617           0.60           0.40  \n",
       "1    0.128740           0.55           0.65  \n",
       "2    0.208272           0.55           0.50  \n",
       "3    0.155526           0.55           0.35  \n",
       "4    0.106729           0.65           0.70  "
      ]
     },
     "execution_count": 21,
     "metadata": {},
     "output_type": "execute_result"
    }
   ],
   "source": [
    "x = data.iloc[:,1:13]\n",
    "x.head()"
   ]
  },
  {
   "cell_type": "code",
   "execution_count": 22,
   "metadata": {},
   "outputs": [
    {
     "data": {
      "text/html": [
       "<div>\n",
       "<style scoped>\n",
       "    .dataframe tbody tr th:only-of-type {\n",
       "        vertical-align: middle;\n",
       "    }\n",
       "\n",
       "    .dataframe tbody tr th {\n",
       "        vertical-align: top;\n",
       "    }\n",
       "\n",
       "    .dataframe thead th {\n",
       "        text-align: right;\n",
       "    }\n",
       "</style>\n",
       "<table border=\"1\" class=\"dataframe\">\n",
       "  <thead>\n",
       "    <tr style=\"text-align: right;\">\n",
       "      <th></th>\n",
       "      <th>Annual Return.1</th>\n",
       "      <th>Excess Return.1</th>\n",
       "      <th>Systematic Risk.1</th>\n",
       "      <th>Total Risk.1</th>\n",
       "      <th>Abs. Win Rate.1</th>\n",
       "      <th>Rel. Win Rate.1</th>\n",
       "    </tr>\n",
       "  </thead>\n",
       "  <tbody>\n",
       "    <tr>\n",
       "      <th>0</th>\n",
       "      <td>0.488229</td>\n",
       "      <td>0.609445</td>\n",
       "      <td>0.780756</td>\n",
       "      <td>0.800000</td>\n",
       "      <td>0.68</td>\n",
       "      <td>0.333333</td>\n",
       "    </tr>\n",
       "    <tr>\n",
       "      <th>1</th>\n",
       "      <td>0.505279</td>\n",
       "      <td>0.508169</td>\n",
       "      <td>0.443776</td>\n",
       "      <td>0.414220</td>\n",
       "      <td>0.56</td>\n",
       "      <td>0.666667</td>\n",
       "    </tr>\n",
       "    <tr>\n",
       "      <th>2</th>\n",
       "      <td>0.728484</td>\n",
       "      <td>0.800000</td>\n",
       "      <td>0.776397</td>\n",
       "      <td>0.755594</td>\n",
       "      <td>0.56</td>\n",
       "      <td>0.466667</td>\n",
       "    </tr>\n",
       "    <tr>\n",
       "      <th>3</th>\n",
       "      <td>0.384640</td>\n",
       "      <td>0.425836</td>\n",
       "      <td>0.529253</td>\n",
       "      <td>0.529196</td>\n",
       "      <td>0.56</td>\n",
       "      <td>0.266667</td>\n",
       "    </tr>\n",
       "    <tr>\n",
       "      <th>4</th>\n",
       "      <td>0.498046</td>\n",
       "      <td>0.479146</td>\n",
       "      <td>0.354852</td>\n",
       "      <td>0.319743</td>\n",
       "      <td>0.80</td>\n",
       "      <td>0.733333</td>\n",
       "    </tr>\n",
       "  </tbody>\n",
       "</table>\n",
       "</div>"
      ],
      "text/plain": [
       "   Annual Return.1  Excess Return.1  Systematic Risk.1  Total Risk.1  \\\n",
       "0         0.488229         0.609445           0.780756      0.800000   \n",
       "1         0.505279         0.508169           0.443776      0.414220   \n",
       "2         0.728484         0.800000           0.776397      0.755594   \n",
       "3         0.384640         0.425836           0.529253      0.529196   \n",
       "4         0.498046         0.479146           0.354852      0.319743   \n",
       "\n",
       "   Abs. Win Rate.1  Rel. Win Rate.1  \n",
       "0             0.68         0.333333  \n",
       "1             0.56         0.666667  \n",
       "2             0.56         0.466667  \n",
       "3             0.56         0.266667  \n",
       "4             0.80         0.733333  "
      ]
     },
     "execution_count": 22,
     "metadata": {},
     "output_type": "execute_result"
    }
   ],
   "source": [
    "y = data.iloc[:,13:]\n",
    "y.head()"
   ]
  },
  {
   "cell_type": "code",
   "execution_count": 23,
   "metadata": {},
   "outputs": [
    {
     "data": {
      "text/plain": [
       "<matplotlib.axes._subplots.AxesSubplot at 0x1a104df3978>"
      ]
     },
     "execution_count": 23,
     "metadata": {},
     "output_type": "execute_result"
    },
    {
     "data": {
      "image/png": "[encoded data removed]",
      "text/plain": [
       "<Figure size 432x288 with 2 Axes>"
      ]
     },
     "metadata": {},
     "output_type": "display_data"
    }
   ],
   "source": [
    "sns.heatmap(y.corr(),annot = True )"
   ]
  },
  {
   "cell_type": "code",
   "execution_count": 24,
   "metadata": {},
   "outputs": [],
   "source": [
    "from sklearn.model_selection import train_test_split"
   ]
  },
  {
   "cell_type": "code",
   "execution_count": 25,
   "metadata": {},
   "outputs": [],
   "source": [
    "X_train, X_test, y_train, y_test = train_test_split(x, y, test_size=0.3, random_state=42)"
   ]
  },
  {
   "cell_type": "code",
   "execution_count": 26,
   "metadata": {},
   "outputs": [],
   "source": [
    "from sklearn.linear_model import LinearRegression"
   ]
  },
  {
   "cell_type": "code",
   "execution_count": 27,
   "metadata": {},
   "outputs": [
    {
     "data": {
      "text/plain": [
       "LinearRegression(copy_X=True, fit_intercept=True, n_jobs=1, normalize=False)"
      ]
     },
     "execution_count": 27,
     "metadata": {},
     "output_type": "execute_result"
    }
   ],
   "source": [
    "lm = LinearRegression()\n",
    "lm.fit(X_train, y_train)"
   ]
  },
  {
   "cell_type": "code",
   "execution_count": 28,
   "metadata": {},
   "outputs": [
    {
     "name": "stdout",
     "output_type": "stream",
     "text": [
      "[ 0.41106417  0.41528141 -0.22208957 -0.1383648  -0.76       -0.2       ]\n"
     ]
    }
   ],
   "source": [
    "print(lm.intercept_) #Independent term in the linear Model"
   ]
  },
  {
   "cell_type": "code",
   "execution_count": 29,
   "metadata": {},
   "outputs": [],
   "source": [
    "y_pred = lm.predict(X_test)"
   ]
  },
  {
   "cell_type": "code",
   "execution_count": 30,
   "metadata": {
    "scrolled": true
   },
   "outputs": [
    {
     "data": {
      "text/html": [
       "<div>\n",
       "<style scoped>\n",
       "    .dataframe tbody tr th:only-of-type {\n",
       "        vertical-align: middle;\n",
       "    }\n",
       "\n",
       "    .dataframe tbody tr th {\n",
       "        vertical-align: top;\n",
       "    }\n",
       "\n",
       "    .dataframe thead th {\n",
       "        text-align: right;\n",
       "    }\n",
       "</style>\n",
       "<table border=\"1\" class=\"dataframe\">\n",
       "  <thead>\n",
       "    <tr style=\"text-align: right;\">\n",
       "      <th></th>\n",
       "      <th>0</th>\n",
       "      <th>1</th>\n",
       "      <th>2</th>\n",
       "      <th>3</th>\n",
       "      <th>4</th>\n",
       "      <th>5</th>\n",
       "    </tr>\n",
       "  </thead>\n",
       "  <tbody>\n",
       "    <tr>\n",
       "      <th>0</th>\n",
       "      <td>0.571021</td>\n",
       "      <td>0.542471</td>\n",
       "      <td>0.304153</td>\n",
       "      <td>0.293441</td>\n",
       "      <td>0.68</td>\n",
       "      <td>0.666667</td>\n",
       "    </tr>\n",
       "    <tr>\n",
       "      <th>1</th>\n",
       "      <td>0.628204</td>\n",
       "      <td>0.603388</td>\n",
       "      <td>0.400817</td>\n",
       "      <td>0.373219</td>\n",
       "      <td>0.56</td>\n",
       "      <td>0.533333</td>\n",
       "    </tr>\n",
       "    <tr>\n",
       "      <th>2</th>\n",
       "      <td>0.488229</td>\n",
       "      <td>0.609445</td>\n",
       "      <td>0.780756</td>\n",
       "      <td>0.800000</td>\n",
       "      <td>0.68</td>\n",
       "      <td>0.333333</td>\n",
       "    </tr>\n",
       "    <tr>\n",
       "      <th>3</th>\n",
       "      <td>0.665024</td>\n",
       "      <td>0.640644</td>\n",
       "      <td>0.419420</td>\n",
       "      <td>0.398810</td>\n",
       "      <td>0.80</td>\n",
       "      <td>0.666667</td>\n",
       "    </tr>\n",
       "    <tr>\n",
       "      <th>4</th>\n",
       "      <td>0.200000</td>\n",
       "      <td>0.200000</td>\n",
       "      <td>0.231205</td>\n",
       "      <td>0.243037</td>\n",
       "      <td>0.20</td>\n",
       "      <td>0.200000</td>\n",
       "    </tr>\n",
       "  </tbody>\n",
       "</table>\n",
       "</div>"
      ],
      "text/plain": [
       "          0         1         2         3     4         5\n",
       "0  0.571021  0.542471  0.304153  0.293441  0.68  0.666667\n",
       "1  0.628204  0.603388  0.400817  0.373219  0.56  0.533333\n",
       "2  0.488229  0.609445  0.780756  0.800000  0.68  0.333333\n",
       "3  0.665024  0.640644  0.419420  0.398810  0.80  0.666667\n",
       "4  0.200000  0.200000  0.231205  0.243037  0.20  0.200000"
      ]
     },
     "execution_count": 30,
     "metadata": {},
     "output_type": "execute_result"
    }
   ],
   "source": [
    "pd.DataFrame(y_pred).head()"
   ]
  },
  {
   "cell_type": "code",
   "execution_count": 31,
   "metadata": {},
   "outputs": [
    {
     "data": {
      "text/plain": [
       "<matplotlib.collections.PathCollection at 0x1a104cf2eb8>"
      ]
     },
     "execution_count": 31,
     "metadata": {},
     "output_type": "execute_result"
    },
    {
     "data": {
      "image/png": "[encoded data removed]",
      "text/plain": [
       "<Figure size 432x288 with 1 Axes>"
      ]
     },
     "metadata": {},
     "output_type": "display_data"
    }
   ],
   "source": [
    "plt.scatter(pd.DataFrame(y_test).iloc[:,0:1],pd.DataFrame(y_pred).iloc[:,0:1])"
   ]
  },
  {
   "cell_type": "code",
   "execution_count": 32,
   "metadata": {},
   "outputs": [],
   "source": [
    "from sklearn.metrics import mean_absolute_error, mean_squared_error"
   ]
  },
  {
   "cell_type": "code",
   "execution_count": 33,
   "metadata": {},
   "outputs": [
    {
     "name": "stdout",
     "output_type": "stream",
     "text": [
      "MAE: 2.035408878479454e-16\n"
     ]
    }
   ],
   "source": [
    "print(\"MAE: {}\".format(mean_absolute_error(y_test, y_pred)))"
   ]
  },
  {
   "cell_type": "code",
   "execution_count": 34,
   "metadata": {},
   "outputs": [
    {
     "name": "stdout",
     "output_type": "stream",
     "text": [
      "MSE: 7.283394014247588e-32\n"
     ]
    }
   ],
   "source": [
    "print(\"MSE: {}\".format(mean_squared_error(y_test, y_pred)))"
   ]
  },
  {
   "cell_type": "code",
   "execution_count": 35,
   "metadata": {},
   "outputs": [
    {
     "name": "stdout",
     "output_type": "stream",
     "text": [
      "RMSE: 2.6987763920428063e-16\n"
     ]
    }
   ],
   "source": [
    "print(\"RMSE: {}\".format(np.sqrt(mean_squared_error(y_test, y_pred))))"
   ]
  },
  {
   "cell_type": "code",
   "execution_count": null,
   "metadata": {},
   "outputs": [],
   "source": []
  }
 ],
 "metadata": {
  "kernelspec": {
   "display_name": "Python 3",
   "language": "python",
   "name": "python3"
  },
  "language_info": {
   "codemirror_mode": {
    "name": "ipython",
    "version": 3
   },
   "file_extension": ".py",
   "mimetype": "text/x-python",
   "name": "python",
   "nbconvert_exporter": "python",
   "pygments_lexer": "ipython3",
   "version": "3.6.5"
  }
 },
 "nbformat": 4,
 "nbformat_minor": 2
}
